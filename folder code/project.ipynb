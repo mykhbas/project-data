#!/usr/bin/env python3
import numpy as np
import pandas as pd
import matplotlib.pyplot as plt
import collections


dt = pd.read_csv('udemy.csv')

def change_valuena(x) :
	y = x.split()
	if "min" in x:
		return float(y[0])/60
	return float(y[0])

def cut_Ratings(x) :
	y = x.split()
	return y[1]

def count_num_of_course(data) :
	dicx = dict()
	for i in data['Ratings'] :
		if i not in dicx :
			dicx[i] = 1
		else :
			dicx[i]+=1
	return dicx

def cut_reviews(x) :
	y = x.split()
	return y[0]

# ลบค่าซ้ำ
ans=set()
nub=0
list_nub=[]

for i in dt['course title']:
	if i not in ans:
		ans.add(i)
		list_nub.append(nub)
		nub+=1
		
	else:
		dt = dt.drop(nub)
		nub+=1
dt = dt.drop(2783)
nub=0
# เคลียค่าquestion

for i in dt['duration']:
	if "q" in i or "lec" in i :
		dt = dt.drop(list_nub[nub])

	nub+=1

dt['duration'] = dt['duration'].apply(lambda x : change_valuena(x))
dt = dt.dropna()


check = set()
for i in dt['course level']:
	if i not in check:
		check.add(i)


list_mean_duration = list(dt.groupby('course level')['duration'].mean())
list_mean_duration = list(map(lambda x: (x*100) // 1 / 100, list_mean_duration))
t = list_mean_duration[2]
list_mean_duration[2] = list_mean_duration[3]
list_mean_duration[3] = t
duration_std = list(dt.groupby('course level')['duration'].std())
duration_std = list(map(lambda x: (x*100) // 1 / 100, duration_std))

dt['reviews'] = dt['reviews'].apply(lambda x:int(cut_reviews(x)))
dt['Ratings'] = dt['Ratings'].apply(lambda x:float(cut_Ratings(x)))

df = dt.copy()
df['reviews'] = df['reviews'].apply(lambda x: None if x == 0 else x)
df = df.dropna()

data_df = count_num_of_course(df)


sort_df = dict(sorted(data_df.items()))
ratings_df = sort_df.keys()
num_course_df = sort_df.values()



dt['Lectures'] = dt['Lectures'].apply(lambda x:int(cut_reviews(x))) 

lecture = list(dt.groupby('course level')['Lectures'].sum())

list_mean_lecture = list(dt.groupby('course level')['Lectures'].mean())
s1 = list(dt.groupby('course level')['reviews'])
s2 = list(dt.groupby('course level')['Ratings'])
s3 = list(dt.groupby('course level')['course title'])
check_all = [[0,0,0,0,0],[0,0,0,0,0],[0,0,0,0,0],[0,0,0,0,0]]
max_all = []
for i in range(4):
	maxsim =[0,0,0,0,0]
	for j in range(len(list(s1[i][1]))) :
		score = int(list(s1[i][1])[j]) * float(list(s2[i][1])[j])
		score = round(score, 1)
		# print(score)
		if score > maxsim[0] :
			maxsim[0] = score
			check_all[i][0] = j
		elif score > maxsim[1] :
			maxsim[1] = score
			check_all[i][1] = j
		elif score > maxsim[2] :
			maxsim[2] = score
			check_all[i][2] = j
		elif score > maxsim[3] :
			maxsim[3] = score
			check_all[i][3] = j
		elif score > maxsim[4] :
			maxsim[4] = score
			check_all[i][4] = j
	max_all.append(maxsim)


list_title =[[],[],[],[]]
for i in range(4):
    for j in range(5):
        list_title[i].append(list(s3[i][1])[check_all[i][j]])


level = ['All Levels' ,'Beginner' ,'Intermediate','Expert']


list_mean_lecture = list(dt.groupby('course level')['Lectures'].mean())
def show_mean():
	fig, ax = plt.subplots()
	ax.set_title('Duration mean by each course level')
	ax.set_ylabel('Duration (hours)')
	ax.set_xlabel('Course level')
	plt.bar(level, list_mean_duration, color=["#B91646", "#105652"])
	addlabels(level,list_mean_duration)

	plt.show()

def show_rating():
	fig, ax = plt.subplots()
	ax.set_title('Number of each ratings')
	ax.set_ylabel('Ratings number')
	ax.set_xlabel('Ratings')
	plt.plot(list(ratings_df), list(num_course_df), color='#105652')
	plt.show()


level_rating = list(dt.groupby('course level')['Ratings'].mean())
level_rating = list(map(lambda x: round(x,2), level_rating))

def show_rating_mean_per_level():
	fig, ax = plt.subplots()
	ax.set_title('Ratings mean per course level')
	ax.set_ylabel('Ratings')
	ax.set_xlabel('Course level')
	# ax.set_xlabel('Duration')
	plt.bar(level, level_rating,color=["#B91646", "#105652"])
	addlabels(level,level_rating)
	plt.show()

def show_lecture():
	fig, ax = plt.subplots()
	ax.set_title('Summation lecture by each course level')
	ax.set_ylabel('Sum of lecture')
	ax.set_xlabel('Course level')
	plt.bar(level, lecture,color=["#B91646", "#105652"])
	addlabels(level,lecture)
	plt.show()

def show_top5(course_level,i,c):
	num = ['1','2','3','4','5']
	fig, ax = plt.subplots()
	ax.set_title('Top 5 best score ' + course_level)
	plt.bar(num,max_all[i],color=c)
	ax.set_ylabel('Score')
	ax.set_xlabel('Course title')
	addlabels(list_title[i],max_all[i])
	plt.show()

def addlabels(x,y):
	
	for i in range(len(x)):
		plt.text(i,y[i],y[i],position=(i-0.08,y[i]))








